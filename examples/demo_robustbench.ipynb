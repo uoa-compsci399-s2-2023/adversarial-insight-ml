{
 "cells": [
  {
   "cell_type": "markdown",
   "metadata": {},
   "source": [
    "# Demo: Load a model from RobustBench\n",
    "\n",
    "Load a pre-trained model from RobustBench and evaluate the model's robustness\n"
   ]
  },
  {
   "cell_type": "code",
   "execution_count": 1,
   "metadata": {},
   "outputs": [],
   "source": [
    "# !pip install git+https://github.com/RobustBench/robustbench.git -q\n",
    "# !pip install tensorboard -q"
   ]
  },
  {
   "cell_type": "code",
   "execution_count": 2,
   "metadata": {},
   "outputs": [
    {
     "name": "stdout",
     "output_type": "stream",
     "text": [
      "AIML package (0.2.2) is being initialized.\n"
     ]
    },
    {
     "name": "stderr",
     "output_type": "stream",
     "text": [
      "/home/lukec/workspace/capstone-project-team-7/venv/lib/python3.9/site-packages/tqdm/auto.py:21: TqdmWarning: IProgress not found. Please update jupyter and ipywidgets. See https://ipywidgets.readthedocs.io/en/stable/user_install.html\n",
      "  from .autonotebook import tqdm as notebook_tqdm\n"
     ]
    }
   ],
   "source": [
    "from aiml.evaluation.evaluate import evaluate\n",
    "from robustbench.utils import load_model\n",
    "from robustbench.data import load_cifar10\n",
    "from torch.utils.data import TensorDataset"
   ]
  },
  {
   "cell_type": "code",
   "execution_count": 3,
   "metadata": {},
   "outputs": [
    {
     "name": "stdout",
     "output_type": "stream",
     "text": [
      "Files already downloaded and verified\n"
     ]
    }
   ],
   "source": [
    "x_test, y_test = load_cifar10(n_examples=1000)\n",
    "test_dataset = TensorDataset(x_test, y_test)"
   ]
  },
  {
   "cell_type": "code",
   "execution_count": 5,
   "metadata": {},
   "outputs": [],
   "source": [
    "\n",
    "model = load_model(model_name='Carmon2019Unlabeled', dataset='cifar10', threat_model='Linf')"
   ]
  },
  {
   "cell_type": "code",
   "execution_count": 6,
   "metadata": {},
   "outputs": [
    {
     "name": "stdout",
     "output_type": "stream",
     "text": [
      "the time you run the program is 2023-10-17 11\n"
     ]
    },
    {
     "ename": "Exception",
     "evalue": "Failed to normalized testing dataset. Please normalize it manually.",
     "output_type": "error",
     "traceback": [
      "\u001b[0;31m---------------------------------------------------------------------------\u001b[0m",
      "\u001b[0;31mException\u001b[0m                                 Traceback (most recent call last)",
      "\u001b[1;32m/home/lukec/workspace/capstone-project-team-7/examples/demo_robustbench.ipynb Cell 7\u001b[0m line \u001b[0;36m3\n\u001b[1;32m      <a href='vscode-notebook-cell:/home/lukec/workspace/capstone-project-team-7/examples/demo_robustbench.ipynb#W5sZmlsZQ%3D%3D?line=0'>1</a>\u001b[0m \u001b[39m# Surrogate model does not work ATM!\u001b[39;00m\n\u001b[1;32m      <a href='vscode-notebook-cell:/home/lukec/workspace/capstone-project-team-7/examples/demo_robustbench.ipynb#W5sZmlsZQ%3D%3D?line=1'>2</a>\u001b[0m \u001b[39m# evaluate(model,input_train_data=train_dataset,input_test_data=test_dataset)\u001b[39;00m\n\u001b[0;32m----> <a href='vscode-notebook-cell:/home/lukec/workspace/capstone-project-team-7/examples/demo_robustbench.ipynb#W5sZmlsZQ%3D%3D?line=2'>3</a>\u001b[0m evaluate(model, input_test_data\u001b[39m=\u001b[39;49mtest_dataset)\n",
      "File \u001b[0;32m~/workspace/capstone-project-team-7/src/aiml/evaluation/evaluate.py:113\u001b[0m, in \u001b[0;36mevaluate\u001b[0;34m(input_model, input_test_data, input_train_data, input_shape, clip_values, nb_classes, batch_size_attack, num_threads_attack, batch_size_train, batch_size_test, num_workers, require_n, dry, attack_para_list)\u001b[0m\n\u001b[1;32m    111\u001b[0m \u001b[39m# Check if the testing dataset is normalized\u001b[39;00m\n\u001b[1;32m    112\u001b[0m \u001b[39mif\u001b[39;00m \u001b[39mnot\u001b[39;00m check_normalize(dataloader_test):\n\u001b[0;32m--> 113\u001b[0m     \u001b[39mraise\u001b[39;00m \u001b[39mException\u001b[39;00m(\n\u001b[1;32m    114\u001b[0m         \u001b[39m\"\u001b[39m\u001b[39mFailed to normalized testing dataset. Please normalize it manually.\u001b[39m\u001b[39m\"\u001b[39m\n\u001b[1;32m    115\u001b[0m     )\n\u001b[1;32m    117\u001b[0m acc_test \u001b[39m=\u001b[39m check_accuracy(model, dataloader_test, device)\n\u001b[1;32m    118\u001b[0m \u001b[39mprint\u001b[39m(\u001b[39mf\u001b[39m\u001b[39m\"\u001b[39m\u001b[39mTest accuracy: \u001b[39m\u001b[39m{\u001b[39;00macc_test\u001b[39m \u001b[39m\u001b[39m*\u001b[39m\u001b[39m \u001b[39m\u001b[39m100\u001b[39m\u001b[39m:\u001b[39;00m\u001b[39m.2f\u001b[39m\u001b[39m}\u001b[39;00m\u001b[39m%\u001b[39m\u001b[39m\"\u001b[39m)\n",
      "\u001b[0;31mException\u001b[0m: Failed to normalized testing dataset. Please normalize it manually."
     ]
    }
   ],
   "source": [
    "# Surrogate model does not work ATM!\n",
    "# evaluate(model,input_train_data=train_dataset,input_test_data=test_dataset)\n",
    "evaluate(model, input_test_data=test_dataset)"
   ]
  },
  {
   "cell_type": "code",
   "execution_count": null,
   "metadata": {},
   "outputs": [],
   "source": []
  }
 ],
 "metadata": {
  "kernelspec": {
   "display_name": "lightning_test",
   "language": "python",
   "name": "python3"
  },
  "language_info": {
   "codemirror_mode": {
    "name": "ipython",
    "version": 3
   },
   "file_extension": ".py",
   "mimetype": "text/x-python",
   "name": "python",
   "nbconvert_exporter": "python",
   "pygments_lexer": "ipython3",
   "version": "3.9.18"
  }
 },
 "nbformat": 4,
 "nbformat_minor": 2
}
