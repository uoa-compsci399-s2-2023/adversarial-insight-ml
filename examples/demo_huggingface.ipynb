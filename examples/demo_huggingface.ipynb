{
 "cells": [
  {
   "cell_type": "markdown",
   "metadata": {},
   "source": [
    "# Demo: HuggingFace\n",
    "\n",
    "Load a pre-trained model from HuggingFace and evaluate the model's robustness\n",
    "\n",
    "List of datasets:\n",
    "\n",
    "- CIFAR10\n",
    "- CIFAR100\n",
    "- TinyImageNet\n",
    "- GTSRB\n",
    "- SVHN"
   ]
  },
  {
   "cell_type": "code",
   "execution_count": 9,
   "metadata": {},
   "outputs": [],
   "source": [
    "import detectors\n",
    "import timm\n",
    "import torchvision as tv\n",
    "import torchvision.transforms as T\n",
    "\n",
    "from aiml.evaluation.evaluate import evaluate"
   ]
  },
  {
   "cell_type": "code",
   "execution_count": 10,
   "metadata": {},
   "outputs": [
    {
     "name": "stdout",
     "output_type": "stream",
     "text": [
      "Files already downloaded and verified\n"
     ]
    }
   ],
   "source": [
    "model = timm.create_model(\"resnet18_cifar10\", pretrained=True)\n",
    "\n",
    "transform = T.Compose([T.ToTensor(), T.Normalize([0.4914, 0.4822, 0.4465], [0.2470, 0.2435, 0.2616])])\n",
    "test_dataset = tv.datasets.CIFAR10('./data', download=True, train=True, transform=transform)"
   ]
  },
  {
   "cell_type": "code",
   "execution_count": 11,
   "metadata": {},
   "outputs": [
    {
     "ename": "UnboundLocalError",
     "evalue": "local variable 'input_train_set' referenced before assignment",
     "output_type": "error",
     "traceback": [
      "\u001b[1;31m---------------------------------------------------------------------------\u001b[0m",
      "\u001b[1;31mUnboundLocalError\u001b[0m                         Traceback (most recent call last)",
      "\u001b[1;32mc:\\Users\\GGPC\\OneDrive\\Desktop\\adversarial_attack_demo23-main\\capstone-project-team-7\\src\\demo_huggingface.ipynb Cell 4\u001b[0m line \u001b[0;36m1\n\u001b[1;32m----> <a href='vscode-notebook-cell:/c%3A/Users/GGPC/OneDrive/Desktop/adversarial_attack_demo23-main/capstone-project-team-7/src/demo_huggingface.ipynb#X12sZmlsZQ%3D%3D?line=0'>1</a>\u001b[0m evaluate(input_model\u001b[39m=\u001b[39;49mmodel, input_test_data\u001b[39m=\u001b[39;49mtest_dataset, dry\u001b[39m=\u001b[39;49m\u001b[39mTrue\u001b[39;49;00m)\n",
      "File \u001b[1;32mc:\\Users\\GGPC\\OneDrive\\Desktop\\adversarial_attack_demo23-main\\capstone-project-team-7\\src\\aiml\\evaluation\\evaluate.py:76\u001b[0m, in \u001b[0;36mevaluate\u001b[1;34m(input_model, input_test_data, input_train_data, input_shape, clip_values, nb_classes, batch_size_attack, num_threads_attack, batch_size_train, batch_size_test, num_workers, dry, attack_para_list)\u001b[0m\n\u001b[0;32m     74\u001b[0m input_test_data \u001b[39m=\u001b[39m load_test_set(input_test_data)\n\u001b[0;32m     75\u001b[0m model \u001b[39m=\u001b[39m input_model\u001b[39m.\u001b[39mto(device)\n\u001b[1;32m---> 76\u001b[0m input_train_set \u001b[39m=\u001b[39m load_train_set(input_train_set)\n\u001b[0;32m     77\u001b[0m dataset_test, dataset_train \u001b[39m=\u001b[39m normalize_datasets(\n\u001b[0;32m     78\u001b[0m     input_test_data, input_train_data)\n\u001b[0;32m     80\u001b[0m dataloader_test \u001b[39m=\u001b[39m DataLoader(\n\u001b[0;32m     81\u001b[0m     dataset_test, batch_size\u001b[39m=\u001b[39mbatch_size_test, shuffle\u001b[39m=\u001b[39m\u001b[39mFalse\u001b[39;00m, num_workers\u001b[39m=\u001b[39mnum_workers\n\u001b[0;32m     82\u001b[0m )\n",
      "\u001b[1;31mUnboundLocalError\u001b[0m: local variable 'input_train_set' referenced before assignment"
     ]
    }
   ],
   "source": [
    "evaluate(input_model=model, input_test_data=test_dataset, dry=True)"
   ]
  }
 ],
 "metadata": {
  "kernelspec": {
   "display_name": "cs399-testing",
   "language": "python",
   "name": "python3"
  },
  "language_info": {
   "codemirror_mode": {
    "name": "ipython",
    "version": 3
   },
   "file_extension": ".py",
   "mimetype": "text/x-python",
   "name": "python",
   "nbconvert_exporter": "python",
   "pygments_lexer": "ipython3",
   "version": "3.9.18"
  }
 },
 "nbformat": 4,
 "nbformat_minor": 2
}
