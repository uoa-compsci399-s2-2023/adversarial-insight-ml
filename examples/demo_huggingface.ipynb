{
 "cells": [
  {
   "cell_type": "markdown",
   "metadata": {},
   "source": [
    "# Demo: HuggingFace\n",
    "\n",
    "Load a pre-trained model from HuggingFace and evaluate the model's robustness\n",
    "\n",
    "List of datasets:\n",
    "\n",
    "- CIFAR10\n",
    "- CIFAR100\n",
    "- TinyImageNet\n",
    "- GTSRB\n",
    "- SVHN"
   ]
  },
  {
   "cell_type": "code",
   "execution_count": null,
   "metadata": {},
   "outputs": [],
   "source": [
    "import detectors\n",
    "import timm\n",
    "import torchvision as tv\n",
    "import torchvision.transforms as T\n",
    "\n",
    "from aiml.evaluation.evaluate import evaluate"
   ]
  },
  {
   "cell_type": "code",
   "execution_count": null,
   "metadata": {},
   "outputs": [],
   "source": [
    "model = timm.create_model(\"resnet18_cifar10\", pretrained=True)\n",
    "\n",
    "transform = T.Compose([T.ToTensor(), T.Normalize([0.4914, 0.4822, 0.4465], [0.2470, 0.2435, 0.2616])])\n",
    "test_dataset = tv.datasets.CIFAR10('./data', download=True, train=True, transform=transform)"
   ]
  },
  {
   "cell_type": "code",
   "execution_count": null,
   "metadata": {},
   "outputs": [],
   "source": [
    "evaluate(input_model=model, input_test_data=test_dataset)"
   ]
  }
 ],
 "metadata": {
  "kernelspec": {
   "display_name": "cs399-testing",
   "language": "python",
   "name": "python3"
  },
  "language_info": {
   "codemirror_mode": {
    "name": "ipython",
    "version": 3
   },
   "file_extension": ".py",
   "mimetype": "text/x-python",
   "name": "python",
   "nbconvert_exporter": "python",
   "pygments_lexer": "ipython3",
   "version": "3.9.18"
  }
 },
 "nbformat": 4,
 "nbformat_minor": 2
}
