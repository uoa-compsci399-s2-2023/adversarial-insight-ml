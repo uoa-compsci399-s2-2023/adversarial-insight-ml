{
 "cells": [
  {
   "cell_type": "markdown",
   "metadata": {},
   "source": [
    "# Demo: HuggingFace\n",
    "\n",
    "Load a pre-trained model from HuggingFace and evaluate the model's robustness\n",
    "\n",
    "List of datasets:\n",
    "\n",
    "- CIFAR10\n",
    "- CIFAR100\n",
    "- TinyImageNet\n",
    "- GTSRB\n",
    "- SVHN"
   ]
  },
  {
   "cell_type": "code",
   "execution_count": null,
   "metadata": {},
   "outputs": [],
   "source": [
    "import aiml"
   ]
  }
 ],
 "metadata": {
  "language_info": {
   "name": "python"
  }
 },
 "nbformat": 4,
 "nbformat_minor": 2
}
