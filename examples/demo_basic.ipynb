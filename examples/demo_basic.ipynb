{
 "cells": [
  {
   "cell_type": "markdown",
   "metadata": {},
   "source": [
    "# Demo: Basic Use Case\n",
    "\n",
    "Load a pre-trained model on MNIST and evaluate the model's robustness"
   ]
  },
  {
   "cell_type": "markdown",
   "metadata": {},
   "source": [
    "## Step 1: Define the network\n"
   ]
  },
  {
   "cell_type": "code",
   "execution_count": 1,
   "metadata": {},
   "outputs": [],
   "source": [
    "import torch.nn as nn\n",
    "import torch.nn.functional as F\n",
    "import torchvision\n",
    "\n",
    "class Net(nn.Module):\n",
    "    def __init__(self):\n",
    "        super(Net, self).__init__()\n",
    "        self.conv1 = nn.Conv2d(1, 10, kernel_size=5)\n",
    "        self.conv2 = nn.Conv2d(10, 20, kernel_size=5)\n",
    "        self.conv2_drop = nn.Dropout2d()\n",
    "        self.fc1 = nn.Linear(320, 50)\n",
    "        self.fc2 = nn.Linear(50, 10)\n",
    "\n",
    "    def forward(self, x):\n",
    "        x = F.relu(F.max_pool2d(self.conv1(x), 2))\n",
    "        x = F.relu(F.max_pool2d(self.conv2_drop(self.conv2(x)), 2))\n",
    "        x = x.view(-1, 320)\n",
    "        x = F.relu(self.fc1(x))\n",
    "        x = F.dropout(x, training=self.training)\n",
    "        x = self.fc2(x)\n",
    "        return F.log_softmax(x, dim=1)"
   ]
  },
  {
   "cell_type": "markdown",
   "metadata": {},
   "source": [
    "## Step 2: Load the model\n",
    "Load pre-trained saved model."
   ]
  },
  {
   "cell_type": "code",
   "execution_count": 2,
   "metadata": {},
   "outputs": [],
   "source": [
    "# Load model\n",
    "import torch\n",
    "\n",
    "model = Net()\n",
    "model.load_state_dict(torch.load(\"demo_model.pth\"))\n",
    "\n",
    "dataset_test = torchvision.datasets.MNIST(\n",
    "    \"./data/\",\n",
    "    train=False,\n",
    "    download=True,\n",
    "    transform=torchvision.transforms.Compose(\n",
    "        [\n",
    "            torchvision.transforms.ToTensor(),\n",
    "            torchvision.transforms.Normalize((0.1307,), (0.3081,)),\n",
    "        ]\n",
    "    ),\n",
    ")"
   ]
  },
  {
   "cell_type": "markdown",
   "metadata": {},
   "source": [
    "## Step 3: Evaluate model\n"
   ]
  },
  {
   "cell_type": "code",
   "execution_count": 3,
   "metadata": {},
   "outputs": [
    {
     "name": "stdout",
     "output_type": "stream",
     "text": [
      "AIML package (0.1.1) is being initialized.\n"
     ]
    },
    {
     "name": "stderr",
     "output_type": "stream",
     "text": [
      "/opt/homebrew/Caskroom/miniconda/base/envs/team7/lib/python3.9/site-packages/tqdm/auto.py:21: TqdmWarning: IProgress not found. Please update jupyter and ipywidgets. See https://ipywidgets.readthedocs.io/en/stable/user_install.html\n",
      "  from .autonotebook import tqdm as notebook_tqdm\n"
     ]
    },
    {
     "name": "stdout",
     "output_type": "stream",
     "text": [
      "Test accuracy: 96.83%\n"
     ]
    },
    {
     "name": "stderr",
     "output_type": "stream",
     "text": [
      "/opt/homebrew/Caskroom/miniconda/base/envs/team7/lib/python3.9/site-packages/torch/nn/functional.py:1338: UserWarning: dropout2d: Received a 3D input to dropout2d and assuming that channel-wise 1D dropout behavior is desired - input is interpreted as shape (N, C, L), where C is the channel dim. This behavior will change in a future release to interpret the input as one without a batch dimension, i.e. shape (C, H, W). To maintain the 1D channel-wise dropout behavior, please switch to using dropout1d instead.\n",
      "  warnings.warn(\"dropout2d: Received a 3D input to dropout2d and assuming that channel-wise \"\n",
      "AutoPGD - restart:   0%|          | 0/5 [00:00<?, ?it/s]\n",
      "\u001b[A\n",
      "\u001b[A\n",
      "\u001b[A\n",
      "\u001b[A\n",
      "\u001b[A\n",
      "\u001b[A\n",
      "\u001b[A\n",
      "\u001b[A\n",
      "\u001b[A\n",
      "\u001b[A\n",
      "\u001b[A\n",
      "\u001b[A\n",
      "\u001b[A\n",
      "\u001b[A\n",
      "\u001b[A\n",
      "\u001b[A\n",
      "\u001b[A\n",
      "\u001b[A\n",
      "\u001b[A\n",
      "\u001b[A\n",
      "\u001b[A\n",
      "\u001b[A\n",
      "\u001b[A\n",
      "\u001b[A\n",
      "\u001b[A\n",
      "\u001b[A\n",
      "\u001b[A\n",
      "\u001b[A\n",
      "\u001b[A\n",
      "\u001b[A\n",
      "\u001b[A\n",
      "\u001b[A\n",
      "\u001b[A\n",
      "\u001b[A\n",
      "\u001b[A\n",
      "\u001b[A\n",
      "\u001b[A\n",
      "\u001b[A\n",
      "\u001b[A\n",
      "\u001b[A\n",
      "\u001b[A\n",
      "\u001b[A\n",
      "\u001b[A\n",
      "\u001b[A\n",
      "\u001b[A\n",
      "\u001b[A\n",
      "\u001b[A\n",
      "\u001b[A\n",
      "\u001b[A\n",
      "\u001b[A\n",
      "\u001b[A\n",
      "\u001b[A\n",
      "\u001b[A\n",
      "\u001b[A\n",
      "\u001b[A\n",
      "\u001b[A\n",
      "\u001b[A\n",
      "\u001b[A\n",
      "\u001b[A\n",
      "\u001b[A\n",
      "\u001b[A\n",
      "\u001b[A\n",
      "AutoPGD - restart:  20%|██        | 1/5 [00:03<00:12,  3.00s/it]\n"
     ]
    },
    {
     "name": "stdout",
     "output_type": "stream",
     "text": [
      "[0, [0, 0, 0.0]]\n"
     ]
    },
    {
     "name": "stderr",
     "output_type": "stream",
     "text": [
      "AutoPGD - restart:   0%|          | 0/5 [00:00<?, ?it/s]\n",
      "\u001b[A\n",
      "\u001b[A\n",
      "\u001b[A\n",
      "\u001b[A\n",
      "\u001b[A\n",
      "\u001b[A\n",
      "\u001b[A\n",
      "\u001b[A\n",
      "\u001b[A\n",
      "\u001b[A\n",
      "\u001b[A\n",
      "\u001b[A\n",
      "\u001b[A\n",
      "\u001b[A\n",
      "\u001b[A\n",
      "\u001b[A\n",
      "\u001b[A\n",
      "\u001b[A\n",
      "\u001b[A\n",
      "\u001b[A\n",
      "\u001b[A\n",
      "\u001b[A\n",
      "\u001b[A\n",
      "\u001b[A\n",
      "\u001b[A\n",
      "\u001b[A\n",
      "\u001b[A\n",
      "\u001b[A\n",
      "\u001b[A\n",
      "\u001b[A\n",
      "\u001b[A\n",
      "\u001b[A\n",
      "\u001b[A\n",
      "\u001b[A\n",
      "\u001b[A\n",
      "\u001b[A\n",
      "\u001b[A\n",
      "\u001b[A\n",
      "\u001b[A\n",
      "\u001b[A\n",
      "\u001b[A\n",
      "\u001b[A\n",
      "\u001b[A\n",
      "\u001b[A\n",
      "\u001b[A\n",
      "\u001b[A\n",
      "\u001b[A\n",
      "\u001b[A\n",
      "\u001b[A\n",
      "\u001b[A\n",
      "\u001b[A\n",
      "\u001b[A\n",
      "\u001b[A\n",
      "\u001b[A\n",
      "\u001b[A\n",
      "\u001b[A\n",
      "\u001b[A\n",
      "\u001b[A\n",
      "\u001b[A\n",
      "\u001b[A\n",
      "\u001b[A\n",
      "\u001b[A\n",
      "\u001b[A\n",
      "\u001b[A\n",
      "\u001b[A\n",
      "\u001b[A\n",
      "\u001b[A\n",
      "\u001b[A\n",
      "\u001b[A\n",
      "\u001b[A\n",
      "\u001b[A\n",
      "\u001b[A\n",
      "\u001b[A\n",
      "\u001b[A\n",
      "\u001b[A\n",
      "\u001b[A\n",
      "\u001b[A\n",
      "\u001b[A\n",
      "\u001b[A\n",
      "\u001b[A\n",
      "\u001b[A\n",
      "\u001b[A\n",
      "\u001b[A\n",
      "\u001b[A\n",
      "\u001b[A\n",
      "\u001b[A\n",
      "\u001b[A\n",
      "\u001b[A\n",
      "\u001b[A\n",
      "AutoPGD - restart:  20%|██        | 1/5 [00:03<00:13,  3.48s/it]\n",
      "\u001b[A\n",
      "\u001b[A\n",
      "\u001b[A\n",
      "\u001b[A\n",
      "\u001b[A\n",
      "\u001b[A\n",
      "\u001b[A\n",
      "\u001b[A\n",
      "\u001b[A\n",
      "\u001b[A\n",
      "\u001b[A\n",
      "AutoPGD - restart:  40%|████      | 2/5 [00:03<00:05,  1.71s/it]\n",
      "\u001b[A\n",
      "\u001b[A\n",
      "\u001b[A\n",
      "\u001b[A\n",
      "\u001b[A\n",
      "\u001b[A\n",
      "\u001b[A\n",
      "\u001b[A\n",
      "AutoPGD - restart:  60%|██████    | 3/5 [00:04<00:02,  1.08s/it]\n",
      "\u001b[A\n",
      "\u001b[A\n",
      "AutoPGD - restart:  80%|████████  | 4/5 [00:04<00:00,  1.42it/s]\n",
      "\u001b[A\n",
      "\u001b[A\n",
      "AutoPGD - restart: 100%|██████████| 5/5 [00:04<00:00,  1.11it/s]\n"
     ]
    },
    {
     "name": "stdout",
     "output_type": "stream",
     "text": [
      "[0, [0, 0, 0.0], [1, 0, 3.3333333333333335]]\n"
     ]
    },
    {
     "name": "stderr",
     "output_type": "stream",
     "text": [
      "AutoPGD - restart:   0%|          | 0/5 [00:00<?, ?it/s]\n",
      "\u001b[A\n",
      "\u001b[A\n",
      "\u001b[A\n",
      "\u001b[A\n",
      "\u001b[A\n",
      "\u001b[A\n",
      "\u001b[A\n",
      "\u001b[A\n",
      "\u001b[A\n",
      "\u001b[A\n",
      "\u001b[A\n",
      "AutoPGD - restart:  20%|██        | 1/5 [00:00<00:03,  1.19it/s]\n",
      "\u001b[A\n",
      "\u001b[A\n",
      "AutoPGD - restart:  40%|████      | 2/5 [00:01<00:01,  2.27it/s]\n",
      "\u001b[A\n",
      "\u001b[A\n",
      "AutoPGD - restart:  60%|██████    | 3/5 [00:01<00:00,  3.40it/s]\n",
      "\u001b[A\n",
      "\u001b[A\n",
      "AutoPGD - restart:  80%|████████  | 4/5 [00:01<00:00,  4.45it/s]\n",
      "\u001b[A\n",
      "\u001b[A\n",
      "AutoPGD - restart: 100%|██████████| 5/5 [00:01<00:00,  3.68it/s]\n"
     ]
    },
    {
     "name": "stdout",
     "output_type": "stream",
     "text": [
      "[0, [0, 0, 0.0], [1, 0, 3.3333333333333335], [1, 1, 3.3333333333333335]]\n"
     ]
    },
    {
     "name": "stderr",
     "output_type": "stream",
     "text": [
      "AutoPGD - restart:   0%|          | 0/5 [00:00<?, ?it/s]\n",
      "\u001b[A\n",
      "\u001b[A\n",
      "\u001b[A\n",
      "\u001b[A\n",
      "\u001b[A\n",
      "\u001b[A\n",
      "\u001b[A\n",
      "\u001b[A\n",
      "\u001b[A\n",
      "AutoPGD - restart:  20%|██        | 1/5 [00:00<00:03,  1.14it/s]\n",
      "\u001b[A\n",
      "\u001b[A\n",
      "AutoPGD - restart:  40%|████      | 2/5 [00:01<00:01,  2.16it/s]\n",
      "\u001b[A\n",
      "\u001b[A\n",
      "AutoPGD - restart:  60%|██████    | 3/5 [00:01<00:00,  3.22it/s]\n",
      "\u001b[A\n",
      "\u001b[A\n",
      "AutoPGD - restart:  80%|████████  | 4/5 [00:01<00:00,  4.14it/s]\n",
      "\u001b[A\n",
      "\u001b[A\n",
      "AutoPGD - restart: 100%|██████████| 5/5 [00:01<00:00,  3.47it/s]\n"
     ]
    },
    {
     "name": "stdout",
     "output_type": "stream",
     "text": [
      "[0, [0, 0, 0.0], [1, 0, 3.3333333333333335], [1, 1, 3.3333333333333335], [1, 2, 3.3333333333333335]]\n",
      "[2, [0, 0, 0.0], [1, 0, 3.3333333333333335], [1, 1, 3.3333333333333335], [1, 2, 3.3333333333333335], [2, 0, 73.33333333333333]]\n",
      "[2, [0, 0, 0.0], [1, 0, 3.3333333333333335], [1, 1, 3.3333333333333335], [1, 2, 3.3333333333333335], [2, 0, 73.33333333333333], [2, 1, 73.33333333333333]]\n",
      "[2, [0, 0, 0.0], [1, 0, 3.3333333333333335], [1, 1, 3.3333333333333335], [1, 2, 3.3333333333333335], [2, 0, 73.33333333333333], [2, 1, 73.33333333333333], [2, 2, 73.33333333333333]]\n"
     ]
    },
    {
     "name": "stderr",
     "output_type": "stream",
     "text": [
      "C&W L_2: 100%|██████████| 30/30 [00:08<00:00,  3.55it/s]\n"
     ]
    },
    {
     "name": "stdout",
     "output_type": "stream",
     "text": [
      "[4, [0, 0, 0.0], [1, 0, 3.3333333333333335], [1, 1, 3.3333333333333335], [1, 2, 3.3333333333333335], [2, 0, 73.33333333333333], [2, 1, 73.33333333333333], [2, 2, 73.33333333333333], [3, 0, 73.33333333333333]]\n"
     ]
    },
    {
     "name": "stderr",
     "output_type": "stream",
     "text": [
      "C&W L_2: 100%|██████████| 2/2 [00:06<00:00,  3.18s/it]\n"
     ]
    },
    {
     "name": "stdout",
     "output_type": "stream",
     "text": [
      "[4, [0, 0, 0.0], [1, 0, 3.3333333333333335], [1, 1, 3.3333333333333335], [1, 2, 3.3333333333333335], [2, 0, 73.33333333333333], [2, 1, 73.33333333333333], [2, 2, 73.33333333333333], [3, 0, 73.33333333333333], [3, 1, 73.33333333333333]]\n"
     ]
    },
    {
     "name": "stderr",
     "output_type": "stream",
     "text": [
      "C&W L_2: 100%|██████████| 1/1 [00:09<00:00,  9.20s/it]\n"
     ]
    },
    {
     "name": "stdout",
     "output_type": "stream",
     "text": [
      "[4, [0, 0, 0.0], [1, 0, 3.3333333333333335], [1, 1, 3.3333333333333335], [1, 2, 3.3333333333333335], [2, 0, 73.33333333333333], [2, 1, 73.33333333333333], [2, 2, 73.33333333333333], [3, 0, 73.33333333333333], [3, 1, 73.33333333333333], [3, 2, 73.33333333333333]]\n"
     ]
    },
    {
     "name": "stderr",
     "output_type": "stream",
     "text": [
      "C&W L_inf: 100%|██████████| 30/30 [00:11<00:00,  2.66it/s]\n"
     ]
    },
    {
     "name": "stdout",
     "output_type": "stream",
     "text": [
      "[6, [0, 0, 0.0], [1, 0, 3.3333333333333335], [1, 1, 3.3333333333333335], [1, 2, 3.3333333333333335], [2, 0, 73.33333333333333], [2, 1, 73.33333333333333], [2, 2, 73.33333333333333], [3, 0, 73.33333333333333], [3, 1, 73.33333333333333], [3, 2, 73.33333333333333], [4, 0, 96.66666666666667]]\n"
     ]
    },
    {
     "name": "stderr",
     "output_type": "stream",
     "text": [
      "C&W L_inf: 100%|██████████| 30/30 [00:10<00:00,  2.75it/s]\n"
     ]
    },
    {
     "name": "stdout",
     "output_type": "stream",
     "text": [
      "[6, [0, 0, 0.0], [1, 0, 3.3333333333333335], [1, 1, 3.3333333333333335], [1, 2, 3.3333333333333335], [2, 0, 73.33333333333333], [2, 1, 73.33333333333333], [2, 2, 73.33333333333333], [3, 0, 73.33333333333333], [3, 1, 73.33333333333333], [3, 2, 73.33333333333333], [4, 0, 96.66666666666667], [4, 1, 96.66666666666667]]\n"
     ]
    },
    {
     "name": "stderr",
     "output_type": "stream",
     "text": [
      "C&W L_inf: 100%|██████████| 30/30 [00:10<00:00,  2.81it/s]\n"
     ]
    },
    {
     "name": "stdout",
     "output_type": "stream",
     "text": [
      "[6, [0, 0, 0.0], [1, 0, 3.3333333333333335], [1, 1, 3.3333333333333335], [1, 2, 3.3333333333333335], [2, 0, 73.33333333333333], [2, 1, 73.33333333333333], [2, 2, 73.33333333333333], [3, 0, 73.33333333333333], [3, 1, 73.33333333333333], [3, 2, 73.33333333333333], [4, 0, 96.66666666666667], [4, 1, 96.66666666666667], [4, 2, 96.66666666666667]]\n"
     ]
    },
    {
     "name": "stderr",
     "output_type": "stream",
     "text": [
      "DeepFool: 100%|██████████| 30/30 [00:00<00:00, 92.66it/s]\n"
     ]
    },
    {
     "name": "stdout",
     "output_type": "stream",
     "text": [
      "[8, [0, 0, 0.0], [1, 0, 3.3333333333333335], [1, 1, 3.3333333333333335], [1, 2, 3.3333333333333335], [2, 0, 73.33333333333333], [2, 1, 73.33333333333333], [2, 2, 73.33333333333333], [3, 0, 73.33333333333333], [3, 1, 73.33333333333333], [3, 2, 73.33333333333333], [4, 0, 96.66666666666667], [4, 1, 96.66666666666667], [4, 2, 96.66666666666667], [5, 0, 0.0]]\n"
     ]
    },
    {
     "name": "stderr",
     "output_type": "stream",
     "text": [
      "Pixel threshold: 30it [03:14,  6.47s/it]\n"
     ]
    },
    {
     "name": "stdout",
     "output_type": "stream",
     "text": [
      "[8, [0, 0, 0.0], [1, 0, 3.3333333333333335], [1, 1, 3.3333333333333335], [1, 2, 3.3333333333333335], [2, 0, 73.33333333333333], [2, 1, 73.33333333333333], [2, 2, 73.33333333333333], [3, 0, 73.33333333333333], [3, 1, 73.33333333333333], [3, 2, 73.33333333333333], [4, 0, 96.66666666666667], [4, 1, 96.66666666666667], [4, 2, 96.66666666666667], [5, 0, 0.0], [6, 0, 0.0]]\n"
     ]
    },
    {
     "name": "stderr",
     "output_type": "stream",
     "text": [
      "SquareAttack - restarts: 100%|██████████| 1/1 [00:02<00:00,  2.06s/it]\n"
     ]
    },
    {
     "name": "stdout",
     "output_type": "stream",
     "text": [
      "[8, [0, 0, 0.0], [1, 0, 3.3333333333333335], [1, 1, 3.3333333333333335], [1, 2, 3.3333333333333335], [2, 0, 73.33333333333333], [2, 1, 73.33333333333333], [2, 2, 73.33333333333333], [3, 0, 73.33333333333333], [3, 1, 73.33333333333333], [3, 2, 73.33333333333333], [4, 0, 96.66666666666667], [4, 1, 96.66666666666667], [4, 2, 96.66666666666667], [5, 0, 0.0], [6, 0, 0.0], [7, 0, 73.33333333333333]]\n"
     ]
    },
    {
     "name": "stderr",
     "output_type": "stream",
     "text": [
      "SquareAttack - restarts: 100%|██████████| 1/1 [00:00<00:00,  2.28it/s]\n"
     ]
    },
    {
     "name": "stdout",
     "output_type": "stream",
     "text": [
      "[8, [0, 0, 0.0], [1, 0, 3.3333333333333335], [1, 1, 3.3333333333333335], [1, 2, 3.3333333333333335], [2, 0, 73.33333333333333], [2, 1, 73.33333333333333], [2, 2, 73.33333333333333], [3, 0, 73.33333333333333], [3, 1, 73.33333333333333], [3, 2, 73.33333333333333], [4, 0, 96.66666666666667], [4, 1, 96.66666666666667], [4, 2, 96.66666666666667], [5, 0, 0.0], [6, 0, 0.0], [7, 0, 73.33333333333333], [7, 1, 70.0]]\n"
     ]
    },
    {
     "name": "stderr",
     "output_type": "stream",
     "text": [
      "SquareAttack - restarts: 100%|██████████| 1/1 [00:00<00:00,  2.92it/s]\n"
     ]
    },
    {
     "name": "stdout",
     "output_type": "stream",
     "text": [
      "[8, [0, 0, 0.0], [1, 0, 3.3333333333333335], [1, 1, 3.3333333333333335], [1, 2, 3.3333333333333335], [2, 0, 73.33333333333333], [2, 1, 73.33333333333333], [2, 2, 73.33333333333333], [3, 0, 73.33333333333333], [3, 1, 73.33333333333333], [3, 2, 73.33333333333333], [4, 0, 96.66666666666667], [4, 1, 96.66666666666667], [4, 2, 96.66666666666667], [5, 0, 0.0], [6, 0, 0.0], [7, 0, 73.33333333333333], [7, 1, 70.0], [7, 2, 80.0]]\n"
     ]
    },
    {
     "name": "stderr",
     "output_type": "stream",
     "text": [
      "ZOO: 100%|██████████| 30/30 [00:28<00:00,  1.07it/s]\n"
     ]
    },
    {
     "name": "stdout",
     "output_type": "stream",
     "text": [
      "[10, [0, 0, 0.0], [1, 0, 3.3333333333333335], [1, 1, 3.3333333333333335], [1, 2, 3.3333333333333335], [2, 0, 73.33333333333333], [2, 1, 73.33333333333333], [2, 2, 73.33333333333333], [3, 0, 73.33333333333333], [3, 1, 73.33333333333333], [3, 2, 73.33333333333333], [4, 0, 96.66666666666667], [4, 1, 96.66666666666667], [4, 2, 96.66666666666667], [5, 0, 0.0], [6, 0, 0.0], [7, 0, 73.33333333333333], [7, 1, 70.0], [7, 2, 80.0], [8, 0, 100.0]]\n"
     ]
    },
    {
     "name": "stderr",
     "output_type": "stream",
     "text": [
      "ZOO: 100%|██████████| 2/2 [00:25<00:00, 12.57s/it]\n"
     ]
    },
    {
     "name": "stdout",
     "output_type": "stream",
     "text": [
      "[10, [0, 0, 0.0], [1, 0, 3.3333333333333335], [1, 1, 3.3333333333333335], [1, 2, 3.3333333333333335], [2, 0, 73.33333333333333], [2, 1, 73.33333333333333], [2, 2, 73.33333333333333], [3, 0, 73.33333333333333], [3, 1, 73.33333333333333], [3, 2, 73.33333333333333], [4, 0, 96.66666666666667], [4, 1, 96.66666666666667], [4, 2, 96.66666666666667], [5, 0, 0.0], [6, 0, 0.0], [7, 0, 73.33333333333333], [7, 1, 70.0], [7, 2, 80.0], [8, 0, 100.0], [8, 1, 100.0]]\n"
     ]
    },
    {
     "name": "stderr",
     "output_type": "stream",
     "text": [
      "ZOO: 100%|██████████| 1/1 [00:25<00:00, 25.82s/it]"
     ]
    },
    {
     "name": "stdout",
     "output_type": "stream",
     "text": [
      "[10, [0, 0, 0.0], [1, 0, 3.3333333333333335], [1, 1, 3.3333333333333335], [1, 2, 3.3333333333333335], [2, 0, 73.33333333333333], [2, 1, 73.33333333333333], [2, 2, 73.33333333333333], [3, 0, 73.33333333333333], [3, 1, 73.33333333333333], [3, 2, 73.33333333333333], [4, 0, 96.66666666666667], [4, 1, 96.66666666666667], [4, 2, 96.66666666666667], [5, 0, 0.0], [6, 0, 0.0], [7, 0, 73.33333333333333], [7, 1, 70.0], [7, 2, 80.0], [8, 0, 100.0], [8, 1, 100.0], [8, 2, 100.0]]\n",
      "[10, [0, 0, 0.0], [1, 0, 3.3333333333333335], [1, 1, 3.3333333333333335], [1, 2, 3.3333333333333335], [2, 0, 73.33333333333333], [2, 1, 73.33333333333333], [2, 2, 73.33333333333333], [3, 0, 73.33333333333333], [3, 1, 73.33333333333333], [3, 2, 73.33333333333333], [4, 0, 96.66666666666667], [4, 1, 96.66666666666667], [4, 2, 96.66666666666667], [5, 0, 0.0], [6, 0, 0.0], [7, 0, 73.33333333333333], [7, 1, 70.0], [7, 2, 80.0], [8, 0, 100.0], [8, 1, 100.0], [8, 2, 100.0]]\n"
     ]
    },
    {
     "name": "stderr",
     "output_type": "stream",
     "text": [
      "\n"
     ]
    }
   ],
   "source": [
    "from aiml.evaluation.evaluate import evaluate\n",
    "\n",
    "evaluate(model, input_test_data=dataset_test)"
   ]
  }
 ],
 "metadata": {
  "kernelspec": {
   "display_name": "team7",
   "language": "python",
   "name": "python3"
  },
  "language_info": {
   "codemirror_mode": {
    "name": "ipython",
    "version": 3
   },
   "file_extension": ".py",
   "mimetype": "text/x-python",
   "name": "python",
   "nbconvert_exporter": "python",
   "pygments_lexer": "ipython3",
   "version": "3.9.18"
  }
 },
 "nbformat": 4,
 "nbformat_minor": 2
}
